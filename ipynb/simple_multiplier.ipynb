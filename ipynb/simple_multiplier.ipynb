{
 "cells": [
  {
   "cell_type": "markdown",
   "metadata": {},
   "source": [
    "# Simple Multiplier"
   ]
  },
  {
   "cell_type": "code",
   "execution_count": 42,
   "metadata": {},
   "outputs": [],
   "source": [
    "# Import tensorflow\n",
    "import tensorflow as tf"
   ]
  },
  {
   "cell_type": "code",
   "execution_count": 43,
   "metadata": {
    "collapsed": true
   },
   "outputs": [],
   "source": [
    "def simpleMultiplier(num, num2):\n",
    "    # Create symbolic variables\n",
    "    ft_num = tf.placeholder(\"int8\")\n",
    "    ft_num2 = tf.placeholder(\"int8\")\n",
    "\n",
    "    # Apply multiply function\n",
    "    simpleMultiplier = tf.multiply(ft_num, ft_num2)\n",
    "    \n",
    "    # Create session\n",
    "    sess = tf.Session()\n",
    "\n",
    "    # Excute equation\n",
    "    result = sess.run(simpleMultiplier, {ft_num: num, ft_num2: num2})\n",
    "    \n",
    "    return result"
   ]
  },
  {
   "cell_type": "code",
   "execution_count": 44,
   "metadata": {},
   "outputs": [
    {
     "name": "stdout",
     "output_type": "stream",
     "text": [
      "Result 3*5 from native python: 15\n",
      "Result 3*5 from tensorFlow: 15\n"
     ]
    }
   ],
   "source": [
    "print(\"Result 3*5 from native python: {}\".format(3*5))\n",
    "print(\"Result 3*5 from tensorFlow: {}\".format(simpleMultiplier(3, 5)))"
   ]
  }
 ],
 "metadata": {
  "kernelspec": {
   "display_name": "Python 3",
   "language": "python",
   "name": "python3"
  },
  "language_info": {
   "codemirror_mode": {
    "name": "ipython",
    "version": 3
   },
   "file_extension": ".py",
   "mimetype": "text/x-python",
   "name": "python",
   "nbconvert_exporter": "python",
   "pygments_lexer": "ipython3",
   "version": "3.6.1"
  }
 },
 "nbformat": 4,
 "nbformat_minor": 2
}
