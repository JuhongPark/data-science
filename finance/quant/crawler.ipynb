{
 "cells": [
  {
   "cell_type": "markdown",
   "id": "95e0ee2a-dac6-414f-af17-cafb59105175",
   "metadata": {},
   "source": [
    "# Static Crawler"
   ]
  },
  {
   "cell_type": "code",
   "execution_count": 1,
   "id": "3a216b76-bf9e-45f9-a133-a724640adc4a",
   "metadata": {},
   "outputs": [
    {
     "name": "stdout",
     "output_type": "stream",
     "text": [
      "<Response [200]>\n"
     ]
    }
   ],
   "source": [
    "import requests as rq\n",
    "\n",
    "url = 'https://quotes.toscrape.com'\n",
    "quote = rq.get(url)\n",
    "print(quote)"
   ]
  },
  {
   "cell_type": "code",
   "execution_count": 2,
   "id": "203158cb-4f4c-437d-ac26-b580a858fff5",
   "metadata": {},
   "outputs": [
    {
     "data": {
      "text/plain": [
       "[<meta charset=\"utf-8\"/>,\n",
       " <title>Quotes to Scrape</title>,\n",
       " <link href=\"/static/bootstrap.min.css\" rel=\"stylesheet\"/>,\n",
       " <link href=\"/static/main.css\" rel=\"stylesheet\"/>]"
      ]
     },
     "execution_count": 2,
     "metadata": {},
     "output_type": "execute_result"
    }
   ],
   "source": [
    "from bs4 import BeautifulSoup\n",
    "\n",
    "quote_html = BeautifulSoup(quote.content, 'lxml')\n",
    "quote_html.head()"
   ]
  },
  {
   "cell_type": "code",
   "execution_count": 3,
   "id": "957d66a3-374e-4737-adf8-53c1169a41bf",
   "metadata": {},
   "outputs": [
    {
     "data": {
      "text/plain": [
       "['“The world as we have created it is a process of our thinking. It cannot be changed without changing our thinking.”',\n",
       " '“It is our choices, Harry, that show what we truly are, far more than our abilities.”',\n",
       " '“There are only two ways to live your life. One is as though nothing is a miracle. The other is as though everything is a miracle.”',\n",
       " '“The person, be it gentleman or lady, who has not pleasure in a good novel, must be intolerably stupid.”',\n",
       " \"“Imperfection is beauty, madness is genius and it's better to be absolutely ridiculous than absolutely boring.”\",\n",
       " '“Try not to become a man of success. Rather become a man of value.”',\n",
       " '“It is better to be hated for what you are than to be loved for what you are not.”',\n",
       " \"“I have not failed. I've just found 10,000 ways that won't work.”\",\n",
       " \"“A woman is like a tea bag; you never know how strong it is until it's in hot water.”\",\n",
       " '“A day without sunshine is like, you know, night.”']"
      ]
     },
     "execution_count": 3,
     "metadata": {},
     "output_type": "execute_result"
    }
   ],
   "source": [
    "quote_div = quote_html.find_all('div', class_='quote')\n",
    "[div.find_all('span', class_='text')[0].text for div in quote_div]"
   ]
  },
  {
   "cell_type": "code",
   "execution_count": 4,
   "id": "ae2396cc-cc18-46d1-a507-7053fbd3d53d",
   "metadata": {},
   "outputs": [
    {
     "data": {
      "text/plain": [
       "['“The world as we have created it is a process of our thinking. It cannot be changed without changing our thinking.”',\n",
       " '“It is our choices, Harry, that show what we truly are, far more than our abilities.”',\n",
       " '“There are only two ways to live your life. One is as though nothing is a miracle. The other is as though everything is a miracle.”',\n",
       " '“The person, be it gentleman or lady, who has not pleasure in a good novel, must be intolerably stupid.”',\n",
       " \"“Imperfection is beauty, madness is genius and it's better to be absolutely ridiculous than absolutely boring.”\",\n",
       " '“Try not to become a man of success. Rather become a man of value.”',\n",
       " '“It is better to be hated for what you are than to be loved for what you are not.”',\n",
       " \"“I have not failed. I've just found 10,000 ways that won't work.”\",\n",
       " \"“A woman is like a tea bag; you never know how strong it is until it's in hot water.”\",\n",
       " '“A day without sunshine is like, you know, night.”']"
      ]
     },
     "execution_count": 4,
     "metadata": {},
     "output_type": "execute_result"
    }
   ],
   "source": [
    "quote_text = quote_html.select('div.quote > span.text')\n",
    "[text.text for text in quote_text]"
   ]
  },
  {
   "cell_type": "code",
   "execution_count": 5,
   "id": "91521065-a178-4e36-a3f7-f0802312c4c5",
   "metadata": {},
   "outputs": [
    {
     "data": {
      "text/plain": [
       "['Albert Einstein',\n",
       " 'J.K. Rowling',\n",
       " 'Albert Einstein',\n",
       " 'Jane Austen',\n",
       " 'Marilyn Monroe',\n",
       " 'Albert Einstein',\n",
       " 'André Gide',\n",
       " 'Thomas A. Edison',\n",
       " 'Eleanor Roosevelt',\n",
       " 'Steve Martin']"
      ]
     },
     "execution_count": 5,
     "metadata": {},
     "output_type": "execute_result"
    }
   ],
   "source": [
    "quote_author = quote_html.select('div.quote > span > small.author')\n",
    "[author.text for author in quote_author]"
   ]
  },
  {
   "cell_type": "code",
   "execution_count": 6,
   "id": "2ef92a90-c5a4-4e70-b584-1f25eb8a5488",
   "metadata": {},
   "outputs": [
    {
     "data": {
      "text/plain": [
       "['https://quotes.toscrape.com/author/Albert-Einstein',\n",
       " 'https://quotes.toscrape.com/author/J-K-Rowling',\n",
       " 'https://quotes.toscrape.com/author/Albert-Einstein',\n",
       " 'https://quotes.toscrape.com/author/Jane-Austen',\n",
       " 'https://quotes.toscrape.com/author/Marilyn-Monroe',\n",
       " 'https://quotes.toscrape.com/author/Albert-Einstein',\n",
       " 'https://quotes.toscrape.com/author/Andre-Gide',\n",
       " 'https://quotes.toscrape.com/author/Thomas-A-Edison',\n",
       " 'https://quotes.toscrape.com/author/Eleanor-Roosevelt',\n",
       " 'https://quotes.toscrape.com/author/Steve-Martin']"
      ]
     },
     "execution_count": 6,
     "metadata": {},
     "output_type": "execute_result"
    }
   ],
   "source": [
    "quote_link = quote_html.select('div.quote > span > a')\n",
    "['https://quotes.toscrape.com' + link['href'] for link in quote_link]"
   ]
  },
  {
   "cell_type": "code",
   "execution_count": 7,
   "id": "9bb3d3eb-4ab9-4c4c-ab8d-1517fc0d69a4",
   "metadata": {},
   "outputs": [
    {
     "data": {
      "text/plain": [
       "['빅테크 실적 기대, 미증시 일제 상승…나스닥 1.59%(상보)',\n",
       " \"하이브 실적 키운 '멀티레이블'…독립경영 아닌 '독립전쟁' 불씨\",\n",
       " '[속보] 실적 기대, 미증시 일제 상승…나스닥 1.59%↑',\n",
       " '[속보] 실적 발표 앞둔 테슬라 정규장은 1.80% 상승 마감',\n",
       " '포스코, 2030년 실리콘음극재 연산 2.5만톤 생산체제 구축',\n",
       " \"'잡음' 커지는 하이브…이틀새 시총 '-8500억'\",\n",
       " \"'민희진의 난' 집안싸움에 9% 폭락한 하이브, 주가 어디로…\",\n",
       " '애플 \"다음 달 7일 이벤트\"…아이패드 신제품 출시 전망',\n",
       " '[마켓인]아워홈·한미약품도 실패…좌초된 라데팡스파트너스의 꿈',\n",
       " '美제조업 둔화로 금리인하 기대, 국제유가 2% 급등',\n",
       " \"하이브 사태 성지글..민희진, 뉴진스 음원도 작곡가보단 '내 덕'?\",\n",
       " \"트럼프, '트루스 소셜' 주식 3600만주 보너스 받아…1조6000억 상당\",\n",
       " '[주식 매매 상위 종목 및 환율] 2024년 4월 23일자',\n",
       " '[주요경제지표] 2024년 4월 23일자',\n",
       " '테슬라 실적 발표 앞두고 주가 장중 3%↑…머스크 입에 쏠린 눈',\n",
       " '\"美 하원의장 좋은 사람\" 트럼프, 우크라 예산 통과시킨 존슨 감싸기',\n",
       " '美 4월 제조업 PMI 49.9로 넉 달 만에 위축…\"성장 모멘텀 둔화\"']"
      ]
     },
     "execution_count": 7,
     "metadata": {},
     "output_type": "execute_result"
    }
   ],
   "source": [
    "url2 = 'https://finance.naver.com/news/news_list.nhn?mode=LSS2D&section_id=101&section_id2=258'\n",
    "data = rq.get(url2)\n",
    "html = BeautifulSoup(data.content, 'lxml')\n",
    "html_select = html.select('dl > dd.articleSubject > a')\n",
    "[select['title'] for select in html_select]"
   ]
  },
  {
   "cell_type": "code",
   "execution_count": 8,
   "id": "d213642d-e3dc-4f7a-a5b7-0552b1d74730",
   "metadata": {},
   "outputs": [
    {
     "data": {
      "text/html": [
       "<div>\n",
       "<style scoped>\n",
       "    .dataframe tbody tr th:only-of-type {\n",
       "        vertical-align: middle;\n",
       "    }\n",
       "\n",
       "    .dataframe tbody tr th {\n",
       "        vertical-align: top;\n",
       "    }\n",
       "\n",
       "    .dataframe thead th {\n",
       "        text-align: right;\n",
       "    }\n",
       "</style>\n",
       "<table border=\"1\" class=\"dataframe\">\n",
       "  <thead>\n",
       "    <tr style=\"text-align: right;\">\n",
       "      <th></th>\n",
       "      <th>Country / Territory</th>\n",
       "      <th>Total market cap (in mil. US$)[2]</th>\n",
       "      <th>Total market cap (% of GDP)[3]</th>\n",
       "      <th>Number of domestic companies listed[4]</th>\n",
       "      <th>Year</th>\n",
       "    </tr>\n",
       "  </thead>\n",
       "  <tbody>\n",
       "    <tr>\n",
       "      <th>0</th>\n",
       "      <td>United States</td>\n",
       "      <td>49653000</td>\n",
       "      <td>194.5</td>\n",
       "      <td>4266</td>\n",
       "      <td>2023</td>\n",
       "    </tr>\n",
       "    <tr>\n",
       "      <th>1</th>\n",
       "      <td>China</td>\n",
       "      <td>10,889,318[5]</td>\n",
       "      <td>65.1[6]</td>\n",
       "      <td>4154</td>\n",
       "      <td>2023</td>\n",
       "    </tr>\n",
       "    <tr>\n",
       "      <th>2</th>\n",
       "      <td>Japan</td>\n",
       "      <td>5,474,985[7]</td>\n",
       "      <td>126.7[8]</td>\n",
       "      <td>3754</td>\n",
       "      <td>2023</td>\n",
       "    </tr>\n",
       "    <tr>\n",
       "      <th>3</th>\n",
       "      <td>India</td>\n",
       "      <td>4,782,845[9]</td>\n",
       "      <td>120</td>\n",
       "      <td>5372</td>\n",
       "      <td>2024</td>\n",
       "    </tr>\n",
       "    <tr>\n",
       "      <th>4</th>\n",
       "      <td>Hong Kong</td>\n",
       "      <td>3,966,952[10]</td>\n",
       "      <td>1,262.6[11]</td>\n",
       "      <td>2353</td>\n",
       "      <td>2023</td>\n",
       "    </tr>\n",
       "    <tr>\n",
       "      <th>...</th>\n",
       "      <td>...</td>\n",
       "      <td>...</td>\n",
       "      <td>...</td>\n",
       "      <td>...</td>\n",
       "      <td>...</td>\n",
       "    </tr>\n",
       "    <tr>\n",
       "      <th>97</th>\n",
       "      <td>Algeria</td>\n",
       "      <td>371</td>\n",
       "      <td>0.2</td>\n",
       "      <td>...</td>\n",
       "      <td>2018</td>\n",
       "    </tr>\n",
       "    <tr>\n",
       "      <th>98</th>\n",
       "      <td>Paraguay</td>\n",
       "      <td>313</td>\n",
       "      <td>3.5</td>\n",
       "      <td>55</td>\n",
       "      <td>1999</td>\n",
       "    </tr>\n",
       "    <tr>\n",
       "      <th>99</th>\n",
       "      <td>Uruguay</td>\n",
       "      <td>284</td>\n",
       "      <td>1.4</td>\n",
       "      <td>17</td>\n",
       "      <td>1996</td>\n",
       "    </tr>\n",
       "    <tr>\n",
       "      <th>100</th>\n",
       "      <td>Eswatini</td>\n",
       "      <td>234</td>\n",
       "      <td>6.8</td>\n",
       "      <td>6</td>\n",
       "      <td>2007</td>\n",
       "    </tr>\n",
       "    <tr>\n",
       "      <th>101</th>\n",
       "      <td>Bermuda</td>\n",
       "      <td>220</td>\n",
       "      <td>39.6</td>\n",
       "      <td>13</td>\n",
       "      <td>2020</td>\n",
       "    </tr>\n",
       "  </tbody>\n",
       "</table>\n",
       "<p>102 rows × 5 columns</p>\n",
       "</div>"
      ],
      "text/plain": [
       "    Country / Territory Total market cap (in mil. US$)[2]  \\\n",
       "0         United States                          49653000   \n",
       "1                 China                     10,889,318[5]   \n",
       "2                 Japan                      5,474,985[7]   \n",
       "3                 India                      4,782,845[9]   \n",
       "4             Hong Kong                     3,966,952[10]   \n",
       "..                  ...                               ...   \n",
       "97              Algeria                               371   \n",
       "98             Paraguay                               313   \n",
       "99              Uruguay                               284   \n",
       "100            Eswatini                               234   \n",
       "101             Bermuda                               220   \n",
       "\n",
       "    Total market cap (% of GDP)[3] Number of domestic companies listed[4]  \\\n",
       "0                            194.5                                   4266   \n",
       "1                          65.1[6]                                   4154   \n",
       "2                         126.7[8]                                   3754   \n",
       "3                              120                                   5372   \n",
       "4                      1,262.6[11]                                   2353   \n",
       "..                             ...                                    ...   \n",
       "97                             0.2                                    ...   \n",
       "98                             3.5                                     55   \n",
       "99                             1.4                                     17   \n",
       "100                            6.8                                      6   \n",
       "101                           39.6                                     13   \n",
       "\n",
       "     Year  \n",
       "0    2023  \n",
       "1    2023  \n",
       "2    2023  \n",
       "3    2024  \n",
       "4    2023  \n",
       "..    ...  \n",
       "97   2018  \n",
       "98   1999  \n",
       "99   1996  \n",
       "100  2007  \n",
       "101  2020  \n",
       "\n",
       "[102 rows x 5 columns]"
      ]
     },
     "execution_count": 8,
     "metadata": {},
     "output_type": "execute_result"
    }
   ],
   "source": [
    "import pandas as pd\n",
    "\n",
    "url3 = 'https://en.wikipedia.org/wiki/List_of_countries_by_stock_market_capitalization'\n",
    "tbl = pd.read_html(url3)\n",
    "tbl[0]"
   ]
  },
  {
   "cell_type": "code",
   "execution_count": 9,
   "id": "18b6ca9b-0b59-4b96-b92a-7f6c5a970614",
   "metadata": {},
   "outputs": [
    {
     "name": "stderr",
     "output_type": "stream",
     "text": [
      "/tmp/ipykernel_14911/371372150.py:16: FutureWarning: Passing literal html to 'read_html' is deprecated and will be removed in a future version. To read from a literal string, wrap it in a 'StringIO' object.\n",
      "  pd.read_html(html.prettify())[0]\n"
     ]
    },
    {
     "data": {
      "text/html": [
       "<div>\n",
       "<style scoped>\n",
       "    .dataframe tbody tr th:only-of-type {\n",
       "        vertical-align: middle;\n",
       "    }\n",
       "\n",
       "    .dataframe tbody tr th {\n",
       "        vertical-align: top;\n",
       "    }\n",
       "\n",
       "    .dataframe thead th {\n",
       "        text-align: right;\n",
       "    }\n",
       "</style>\n",
       "<table border=\"1\" class=\"dataframe\">\n",
       "  <thead>\n",
       "    <tr style=\"text-align: right;\">\n",
       "      <th></th>\n",
       "      <th>Unnamed: 0</th>\n",
       "      <th>Unnamed: 1</th>\n",
       "      <th>Unnamed: 2</th>\n",
       "      <th>Unnamed: 3</th>\n",
       "      <th>Unnamed: 4</th>\n",
       "    </tr>\n",
       "  </thead>\n",
       "  <tbody>\n",
       "    <tr>\n",
       "      <th>0</th>\n",
       "      <td>19:20</td>\n",
       "      <td>포인트모바일</td>\n",
       "      <td>소속부변경</td>\n",
       "      <td>코스닥시장본부</td>\n",
       "      <td>공시차트  주가차트</td>\n",
       "    </tr>\n",
       "    <tr>\n",
       "      <th>1</th>\n",
       "      <td>19:14</td>\n",
       "      <td>세토피아</td>\n",
       "      <td>주권매매거래정지기간변경(개선기간 부여)</td>\n",
       "      <td>코스닥시장본부</td>\n",
       "      <td>공시차트  주가차트</td>\n",
       "    </tr>\n",
       "    <tr>\n",
       "      <th>2</th>\n",
       "      <td>19:14</td>\n",
       "      <td>세토피아</td>\n",
       "      <td>기타시장안내(상장폐지 관련 이의신청서 접수 및 개선기간 부여)</td>\n",
       "      <td>코스닥시장본부</td>\n",
       "      <td>공시차트  주가차트</td>\n",
       "    </tr>\n",
       "    <tr>\n",
       "      <th>3</th>\n",
       "      <td>19:09</td>\n",
       "      <td>포인트모바일</td>\n",
       "      <td>기준가산정 등에 관한 안내(장기간매매정지)</td>\n",
       "      <td>코스닥시장본부</td>\n",
       "      <td>공시차트  주가차트</td>\n",
       "    </tr>\n",
       "    <tr>\n",
       "      <th>4</th>\n",
       "      <td>19:08</td>\n",
       "      <td>포인트모바일</td>\n",
       "      <td>관리종목 해제(상장유지 결정)</td>\n",
       "      <td>코스닥시장본부</td>\n",
       "      <td>공시차트  주가차트</td>\n",
       "    </tr>\n",
       "    <tr>\n",
       "      <th>5</th>\n",
       "      <td>19:08</td>\n",
       "      <td>포인트모바일</td>\n",
       "      <td>주권매매거래정지해제(상장유지 결정)</td>\n",
       "      <td>코스닥시장본부</td>\n",
       "      <td>공시차트  주가차트</td>\n",
       "    </tr>\n",
       "    <tr>\n",
       "      <th>6</th>\n",
       "      <td>18:08</td>\n",
       "      <td>NaN</td>\n",
       "      <td>자기주식매매신청내역(코스닥시장)</td>\n",
       "      <td>코스닥시장본부</td>\n",
       "      <td>NaN</td>\n",
       "    </tr>\n",
       "    <tr>\n",
       "      <th>7</th>\n",
       "      <td>18:08</td>\n",
       "      <td>NaN</td>\n",
       "      <td>직전1개월 일평균대비 거래량 증가율 상위 10종목(코스닥시장)</td>\n",
       "      <td>코스닥시장본부</td>\n",
       "      <td>NaN</td>\n",
       "    </tr>\n",
       "    <tr>\n",
       "      <th>8</th>\n",
       "      <td>18:07</td>\n",
       "      <td>NaN</td>\n",
       "      <td>일중 변동성 상위 10종목(코스닥시장)</td>\n",
       "      <td>코스닥시장본부</td>\n",
       "      <td>NaN</td>\n",
       "    </tr>\n",
       "    <tr>\n",
       "      <th>9</th>\n",
       "      <td>18:07</td>\n",
       "      <td>NaN</td>\n",
       "      <td>일일회전율상위20종목(코스닥시장)</td>\n",
       "      <td>코스닥시장본부</td>\n",
       "      <td>NaN</td>\n",
       "    </tr>\n",
       "    <tr>\n",
       "      <th>10</th>\n",
       "      <td>18:07</td>\n",
       "      <td>플래스크</td>\n",
       "      <td>불성실공시법인지정예고(공시번복 4건)</td>\n",
       "      <td>코스닥시장본부</td>\n",
       "      <td>공시차트  주가차트</td>\n",
       "    </tr>\n",
       "    <tr>\n",
       "      <th>11</th>\n",
       "      <td>18:07</td>\n",
       "      <td>NaN</td>\n",
       "      <td>대량매매내역(코스닥시장)</td>\n",
       "      <td>코스닥시장본부</td>\n",
       "      <td>NaN</td>\n",
       "    </tr>\n",
       "    <tr>\n",
       "      <th>12</th>\n",
       "      <td>18:07</td>\n",
       "      <td>NaN</td>\n",
       "      <td>최근 20일중 최저(최고)가 대비 상승(하락)율 상위 10종목(코스닥시장)</td>\n",
       "      <td>코스닥시장본부</td>\n",
       "      <td>NaN</td>\n",
       "    </tr>\n",
       "    <tr>\n",
       "      <th>13</th>\n",
       "      <td>18:07</td>\n",
       "      <td>NaN</td>\n",
       "      <td>자기주식매매체결내역(코스닥시장)</td>\n",
       "      <td>코스닥시장본부</td>\n",
       "      <td>NaN</td>\n",
       "    </tr>\n",
       "    <tr>\n",
       "      <th>14</th>\n",
       "      <td>18:06</td>\n",
       "      <td>NaN</td>\n",
       "      <td>자기주식매매 신청내역(유가증권시장)</td>\n",
       "      <td>유가증권시장본부</td>\n",
       "      <td>NaN</td>\n",
       "    </tr>\n",
       "  </tbody>\n",
       "</table>\n",
       "</div>"
      ],
      "text/plain": [
       "   Unnamed: 0 Unnamed: 1                                 Unnamed: 2  \\\n",
       "0       19:20     포인트모바일                                      소속부변경   \n",
       "1       19:14       세토피아                      주권매매거래정지기간변경(개선기간 부여)   \n",
       "2       19:14       세토피아         기타시장안내(상장폐지 관련 이의신청서 접수 및 개선기간 부여)   \n",
       "3       19:09     포인트모바일                    기준가산정 등에 관한 안내(장기간매매정지)   \n",
       "4       19:08     포인트모바일                           관리종목 해제(상장유지 결정)   \n",
       "5       19:08     포인트모바일                        주권매매거래정지해제(상장유지 결정)   \n",
       "6       18:08        NaN                          자기주식매매신청내역(코스닥시장)   \n",
       "7       18:08        NaN         직전1개월 일평균대비 거래량 증가율 상위 10종목(코스닥시장)   \n",
       "8       18:07        NaN                      일중 변동성 상위 10종목(코스닥시장)   \n",
       "9       18:07        NaN                         일일회전율상위20종목(코스닥시장)   \n",
       "10      18:07       플래스크                       불성실공시법인지정예고(공시번복 4건)   \n",
       "11      18:07        NaN                              대량매매내역(코스닥시장)   \n",
       "12      18:07        NaN  최근 20일중 최저(최고)가 대비 상승(하락)율 상위 10종목(코스닥시장)   \n",
       "13      18:07        NaN                          자기주식매매체결내역(코스닥시장)   \n",
       "14      18:06        NaN                        자기주식매매 신청내역(유가증권시장)   \n",
       "\n",
       "   Unnamed: 3  Unnamed: 4  \n",
       "0     코스닥시장본부  공시차트  주가차트  \n",
       "1     코스닥시장본부  공시차트  주가차트  \n",
       "2     코스닥시장본부  공시차트  주가차트  \n",
       "3     코스닥시장본부  공시차트  주가차트  \n",
       "4     코스닥시장본부  공시차트  주가차트  \n",
       "5     코스닥시장본부  공시차트  주가차트  \n",
       "6     코스닥시장본부         NaN  \n",
       "7     코스닥시장본부         NaN  \n",
       "8     코스닥시장본부         NaN  \n",
       "9     코스닥시장본부         NaN  \n",
       "10    코스닥시장본부  공시차트  주가차트  \n",
       "11    코스닥시장본부         NaN  \n",
       "12    코스닥시장본부         NaN  \n",
       "13    코스닥시장본부         NaN  \n",
       "14   유가증권시장본부         NaN  "
      ]
     },
     "execution_count": 9,
     "metadata": {},
     "output_type": "execute_result"
    }
   ],
   "source": [
    "url4 = 'https://kind.krx.co.kr/disclosure/todaydisclosure.do'\n",
    "payload = {\n",
    "    'method': 'searchTodayDisclosureSub',\n",
    "    'currentPageSize': '15',\n",
    "    'pageIndex': '1',\n",
    "    'orderMode': '0',\n",
    "    'orderStat': 'D',\n",
    "    'forward': 'todaydisclosure_sub',\n",
    "    'chose': 'S',\n",
    "    'todayFlag': 'N',\n",
    "    'selDate': '2024-04-23'\n",
    "}\n",
    "\n",
    "data = rq.post(url4, data=payload)\n",
    "html = BeautifulSoup(data.content, 'html.parser')\n",
    "pd.read_html(html.prettify())[0]"
   ]
  },
  {
   "cell_type": "markdown",
   "id": "3bdfd55d-34d5-414f-951c-d2c45064ccf6",
   "metadata": {},
   "source": [
    "# Dynamic Crawler"
   ]
  },
  {
   "cell_type": "code",
   "execution_count": 26,
   "id": "94a46ba4-6113-4003-b3e1-ba910be08f16",
   "metadata": {},
   "outputs": [],
   "source": [
    "from selenium import webdriver\n",
    "from selenium.webdriver.chrome.service import Service\n",
    "from webdriver_manager.chrome import ChromeDriverManager\n",
    "from selenium.webdriver.common.by import By\n",
    "from selenium.webdriver.common.keys import Keys\n",
    "import time\n",
    "from bs4 import BeautifulSoup\n",
    "\n",
    "driver = webdriver.Chrome(service=Service(ChromeDriverManager().install()))"
   ]
  },
  {
   "cell_type": "code",
   "execution_count": 100,
   "id": "97056770-568b-4b7e-b551-0fef4760168d",
   "metadata": {},
   "outputs": [
    {
     "data": {
      "text/plain": [
       "'<html lang=\"ko\" class=\"fzoom\" data-dark=\"false\"><head><script async=\"\" src=\"https://ntm.pstatic.net/ex/nlog.js\"></script><script async=\"\" src=\"https://ntm.pstatic.net/scripts/ntm_27291e35193e.js\"></script><script async=\"\" type=\"text/javascript\" src=\"https://ssl.pstatic.net/tveta/libs/ndpsdk/prod/ndp-core.js\"></script> <meta charset=\"utf-8\"> <meta name=\"Referrer\" content=\"origin\"> <meta http-equiv=\"X-UA-Compatible\" content=\"IE=edge\"> <meta name=\"viewport\" content=\"width=1190\"> <title>NAVER</title> <meta name=\"apple-mobile-web-app-title\" content=\"NAVER\"> <meta name=\"robots\" content=\"index,nofollow\"> <meta name=\"description\" content=\"네이버 메인에서 다양한 정보와 유용한 컨텐츠를 만나 보세요\"> <meta property=\"og:title\" content=\"네이버\"> <meta property=\"og:url\" content=\"https://www.naver.com/\"> <meta property=\"og:image\" content=\"https://s.pstatic.net/static/www/mobile/edit/2016/0705/mobile_212852414260.png\"> <meta property=\"og:description\" content=\"네이버 메인에서 다양한 정보와 유용한 컨텐츠를 만나 보세요\"> <meta name=\"twitter:card\" content=\"'"
      ]
     },
     "execution_count": 100,
     "metadata": {},
     "output_type": "execute_result"
    }
   ],
   "source": [
    "url = 'https://www.naver.com/'\n",
    "driver.get(url)\n",
    "driver.page_source[:1000]"
   ]
  },
  {
   "cell_type": "code",
   "execution_count": 101,
   "id": "206ddce6-e946-4fc8-adc9-d68df0e953e0",
   "metadata": {},
   "outputs": [],
   "source": [
    "driver.find_element(By.LINK_TEXT, value='뉴스').click()"
   ]
  },
  {
   "cell_type": "code",
   "execution_count": 102,
   "id": "762a98b1-7ad1-4986-88b2-9cf010ae6825",
   "metadata": {},
   "outputs": [],
   "source": [
    "driver.switch_to.window(driver.window_handles[1])\n",
    "driver.close()"
   ]
  },
  {
   "cell_type": "code",
   "execution_count": 103,
   "id": "28b8f4c4-f2a2-425e-b5a6-f04032e2f43f",
   "metadata": {},
   "outputs": [],
   "source": [
    "driver.switch_to.window(driver.window_handles[0])\n",
    "driver.find_element(By.CLASS_NAME, value='search_input').send_keys('퀀트')"
   ]
  },
  {
   "cell_type": "code",
   "execution_count": 104,
   "id": "bcf88450-ef8c-4f6a-bc4a-a7ed2724739c",
   "metadata": {},
   "outputs": [],
   "source": [
    "driver.find_element(By.CLASS_NAME, value='btn_search').send_keys(Keys.ENTER)"
   ]
  },
  {
   "cell_type": "code",
   "execution_count": 105,
   "id": "ae3931dc-792e-40a7-9e90-9903ba31ef45",
   "metadata": {},
   "outputs": [],
   "source": [
    "driver.find_element(By.ID, value='nx_query').clear()\n",
    "driver.find_element(By.ID, value='nx_query').send_keys('퀀트 투자 KAIST')\n",
    "driver.find_element(By.CLASS_NAME, value='bt_search').click()"
   ]
  },
  {
   "cell_type": "code",
   "execution_count": 106,
   "id": "9abd0875-733d-4091-9bc7-aa8eef610b55",
   "metadata": {},
   "outputs": [],
   "source": [
    "driver.find_element(By.XPATH, value='//*[@id=\"lnb\"]/div[1]/div/div[1]/div/div[1]/div[1]/a').click()\n",
    "driver.find_element(By.XPATH, value='//*[@id=\"snb\"]/div[1]/div/div[2]/a').click()\n",
    "driver.find_element(By.XPATH, value='//*[@id=\"snb\"]/div[2]/ul/li[1]/div/div/a[2]').click()"
   ]
  },
  {
   "cell_type": "code",
   "execution_count": 107,
   "id": "4686e422-98c0-459b-b5e3-28d6945aa36e",
   "metadata": {},
   "outputs": [],
   "source": [
    "driver.execute_script('window.scrollTo(0, document.body.scrollHeight);')"
   ]
  },
  {
   "cell_type": "code",
   "execution_count": 108,
   "id": "3aa708f9-574d-4d46-9161-5668360b21e4",
   "metadata": {},
   "outputs": [],
   "source": [
    "driver.find_element(By.TAG_NAME, value='body').send_keys(Keys.PAGE_UP)"
   ]
  },
  {
   "cell_type": "code",
   "execution_count": 109,
   "id": "949af6e1-1818-495a-a2d8-45fa4a30bb31",
   "metadata": {},
   "outputs": [],
   "source": [
    "driver.find_element(By.TAG_NAME, value='body').send_keys(Keys.PAGE_DOWN)"
   ]
  },
  {
   "cell_type": "code",
   "execution_count": 111,
   "id": "445f8420-27f3-4c60-b325-45270a2e45e7",
   "metadata": {},
   "outputs": [],
   "source": [
    "prev_height = driver.execute_script('return document.body.scrollHeight')\n",
    "\n",
    "while True:\n",
    "    driver.execute_script('window.scrollTo(0, document.body.scrollHeight);')\n",
    "    time.sleep(2)\n",
    "\n",
    "    cur_height = driver.execute_script('return document.body.scrollHeight')\n",
    "    if cur_height == prev_height:\n",
    "        break\n",
    "    prev_height = cur_height"
   ]
  },
  {
   "cell_type": "code",
   "execution_count": 113,
   "id": "52c6ff60-5560-4a25-82e8-081f072ffe14",
   "metadata": {},
   "outputs": [
    {
     "data": {
      "text/plain": [
       "['2024년 4월 24일 오전장 테마동향',\n",
       " '투자전문가인가..',\n",
       " '수학과 관련직업 종류 전망 취업 공부 대학 순위',\n",
       " '빌리 월터스 겜블러 블랙잭 라스베이거스 필메켈슨 스포츠베팅 카지노',\n",
       " '리더를 위한 뉴브리핑 : 기술변화 총편 (240415)',\n",
       " '[주식투자 경제뉴스] 4월 11일 목요일 오늘의 주요 헤드라인 뉴스',\n",
       " '2024년 3월 KAIST M&N 후기',\n",
       " '[주식투자 경제뉴스] 4월 5일 금요일 오늘의 주요 헤드라인 뉴스',\n",
       " '[주식투자 경제뉴스] 4월 4일 목요일 오늘의 주요 헤드라인 뉴스',\n",
       " '[주식투자 경제뉴스] 3월 28일 목요일 오늘의 주요 헤드라인 뉴스']"
      ]
     },
     "execution_count": 113,
     "metadata": {},
     "output_type": "execute_result"
    }
   ],
   "source": [
    "html = BeautifulSoup(driver.page_source, 'lxml')\n",
    "txt = html.find_all(class_ = 'title_link')\n",
    "txt_list = [txt_item.get_text() for txt_item in txt]\n",
    "txt_list[:10]"
   ]
  },
  {
   "cell_type": "code",
   "execution_count": 115,
   "id": "91e79914-fb37-4218-b75b-f1e3050879dd",
   "metadata": {},
   "outputs": [],
   "source": [
    "driver.quit()"
   ]
  },
  {
   "cell_type": "markdown",
   "id": "d7240ae1-8546-4164-b03f-4ecb2641d52d",
   "metadata": {},
   "source": [
    "# Regex"
   ]
  },
  {
   "cell_type": "code",
   "execution_count": 123,
   "id": "5eebf659-df6f-48a9-b241-40388cd79e8c",
   "metadata": {},
   "outputs": [
    {
     "data": {
      "text/plain": [
       "re.Pattern"
      ]
     },
     "execution_count": 123,
     "metadata": {},
     "output_type": "execute_result"
    }
   ],
   "source": [
    "import re\n",
    "\n",
    "p = re.compile('[a-z]+')\n",
    "type(p)"
   ]
  },
  {
   "cell_type": "code",
   "execution_count": 129,
   "id": "3fa5e5e5-3935-42a3-b6e1-d56e1b192c08",
   "metadata": {},
   "outputs": [
    {
     "name": "stdout",
     "output_type": "stream",
     "text": [
      "<re.Match object; span=(0, 6), match='python'>\n"
     ]
    }
   ],
   "source": [
    "m = p.match('python')\n",
    "print(m)"
   ]
  },
  {
   "cell_type": "code",
   "execution_count": 130,
   "id": "dd2161c6-f20b-4db4-8450-39ff60081fe6",
   "metadata": {},
   "outputs": [
    {
     "data": {
      "text/plain": [
       "'python'"
      ]
     },
     "execution_count": 130,
     "metadata": {},
     "output_type": "execute_result"
    }
   ],
   "source": [
    "m.group()"
   ]
  },
  {
   "cell_type": "code",
   "execution_count": 131,
   "id": "e0649822-02f3-40da-b6f9-440a195db504",
   "metadata": {},
   "outputs": [
    {
     "name": "stdout",
     "output_type": "stream",
     "text": [
      "None\n"
     ]
    }
   ],
   "source": [
    "m = p.match('Use python')\n",
    "print(m)"
   ]
  },
  {
   "cell_type": "code",
   "execution_count": 133,
   "id": "463f2e6a-8b8f-45fa-aaeb-1b4044b4a34a",
   "metadata": {},
   "outputs": [
    {
     "name": "stdout",
     "output_type": "stream",
     "text": [
      "None\n"
     ]
    }
   ],
   "source": [
    "m = p.match('PYTHON')\n",
    "print(m)"
   ]
  },
  {
   "cell_type": "code",
   "execution_count": 135,
   "id": "42c6cc4d-cf62-4aa9-a076-6ad5b81bf4dc",
   "metadata": {},
   "outputs": [
    {
     "name": "stdout",
     "output_type": "stream",
     "text": [
      "<re.Match object; span=(0, 3), match='파이썬'>\n"
     ]
    }
   ],
   "source": [
    "p = re.compile('[가-힣]+')\n",
    "m = p.match('파이썬')\n",
    "print(m)"
   ]
  },
  {
   "cell_type": "code",
   "execution_count": 137,
   "id": "c21cf115-4907-4aef-9102-2c8a6469217d",
   "metadata": {},
   "outputs": [
    {
     "name": "stdout",
     "output_type": "stream",
     "text": [
      "<re.Match object; span=(0, 6), match='python'>\n"
     ]
    }
   ],
   "source": [
    "p = re.compile('[a-z]+')\n",
    "m = p.search('python')\n",
    "print(m)"
   ]
  },
  {
   "cell_type": "code",
   "execution_count": 138,
   "id": "740701db-066b-42c8-8a1f-c071d1b32cb9",
   "metadata": {},
   "outputs": [
    {
     "name": "stdout",
     "output_type": "stream",
     "text": [
      "<re.Match object; span=(1, 3), match='se'>\n"
     ]
    }
   ],
   "source": [
    "m = p.search('Use python')\n",
    "print(m)"
   ]
  },
  {
   "cell_type": "code",
   "execution_count": 139,
   "id": "af1385fd-150a-4bfe-8eb8-755bd693cfe9",
   "metadata": {},
   "outputs": [
    {
     "name": "stdout",
     "output_type": "stream",
     "text": [
      "['Life', 'is', 'too', 'short', 'You', 'need', 'Python']\n"
     ]
    }
   ],
   "source": [
    "p = re.compile('[a-zA-Z]+')\n",
    "m = p.findall('Life is too short, You need Python.')\n",
    "print(m)"
   ]
  },
  {
   "cell_type": "code",
   "execution_count": 140,
   "id": "1fdf7967-581f-4257-8472-a9d20f1a506c",
   "metadata": {},
   "outputs": [
    {
     "name": "stdout",
     "output_type": "stream",
     "text": [
      "<callable_iterator object at 0x7f71f2319ff0>\n"
     ]
    }
   ],
   "source": [
    "p = re.compile('[a-zA-Z]+')\n",
    "m = p.finditer('Life is too short, You need Python.')\n",
    "print(m)"
   ]
  },
  {
   "cell_type": "code",
   "execution_count": 142,
   "id": "57efd381-ce16-4130-a5fd-f100553689d3",
   "metadata": {},
   "outputs": [
    {
     "name": "stdout",
     "output_type": "stream",
     "text": [
      "<re.Match object; span=(0, 4), match='Life'>\n",
      "<re.Match object; span=(5, 7), match='is'>\n",
      "<re.Match object; span=(8, 11), match='too'>\n",
      "<re.Match object; span=(12, 17), match='short'>\n",
      "<re.Match object; span=(19, 22), match='You'>\n",
      "<re.Match object; span=(23, 27), match='need'>\n",
      "<re.Match object; span=(28, 34), match='Python'>\n"
     ]
    }
   ],
   "source": [
    "for i in m:\n",
    "    print(i)"
   ]
  },
  {
   "cell_type": "code",
   "execution_count": 144,
   "id": "7fd2cdc8-ee4d-430e-80a0-cea8616ca45b",
   "metadata": {},
   "outputs": [
    {
     "name": "stdout",
     "output_type": "stream",
     "text": [
      "['15', '23', '29', '34', '40', '44']\n"
     ]
    }
   ],
   "source": [
    "num = \"\"\"r\\n\\t\\t\\t\\t\\t\\t\\t\\r\\n\\t\\t\\t\\t\\t\\t\\t\\t15\\r\\n\\t\\t\\t\\t\\t\\t\\t\\t23\\r\\n\\t\\t\\t\\t\\t\\t\\t\\t29\\r\\n\\t\\t\\t\\t\\t\\t\\t\\t34\\r\\n\\t\\t\\t\\t\\t\\t\\t\\t40\\r\\n\\t\\t\\t\\t\\t\\t\\t\\t44\\r\\n\\t\\t\\t\\t\\t\\t\\t\\r\\n\\t\\t\\t\\t\\t\\t\"\"\"\n",
    "\n",
    "p = re.compile('[0-9]+')\n",
    "m = p.findall(num)\n",
    "print(m)"
   ]
  },
  {
   "cell_type": "code",
   "execution_count": 149,
   "id": "8b5ea8d0-e61f-4195-86ad-4fa5c2314245",
   "metadata": {},
   "outputs": [
    {
     "data": {
      "text/plain": [
       "['2022.12.31']"
      ]
     },
     "execution_count": 149,
     "metadata": {},
     "output_type": "execute_result"
    }
   ],
   "source": [
    "dt = '> 오늘의 날짜는 2022.12.31 입니다.'\n",
    "\n",
    "p = re.compile('[0-9]+.[0-9]+.[0-9]+')\n",
    "p.findall(dt)"
   ]
  },
  {
   "cell_type": "code",
   "execution_count": 150,
   "id": "fa61afe2-b6e8-4e45-a111-f3905c751936",
   "metadata": {},
   "outputs": [
    {
     "name": "stdout",
     "output_type": "stream",
     "text": [
      "['2022', '12', '31']\n"
     ]
    }
   ],
   "source": [
    "p = re.compile('[0-9]+')\n",
    "m = p.findall(dt)\n",
    "print(m)"
   ]
  },
  {
   "cell_type": "code",
   "execution_count": 151,
   "id": "b3ee33d5-01cb-43ae-8fcb-99a560415cc2",
   "metadata": {},
   "outputs": [
    {
     "data": {
      "text/plain": [
       "'20221231'"
      ]
     },
     "execution_count": 151,
     "metadata": {},
     "output_type": "execute_result"
    }
   ],
   "source": [
    "''.join(m)"
   ]
  }
 ],
 "metadata": {
  "kernelspec": {
   "display_name": "Python 3 (ipykernel)",
   "language": "python",
   "name": "python3"
  },
  "language_info": {
   "codemirror_mode": {
    "name": "ipython",
    "version": 3
   },
   "file_extension": ".py",
   "mimetype": "text/x-python",
   "name": "python",
   "nbconvert_exporter": "python",
   "pygments_lexer": "ipython3",
   "version": "3.12.3"
  }
 },
 "nbformat": 4,
 "nbformat_minor": 5
}
