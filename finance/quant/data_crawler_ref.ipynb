{
 "cells": [
  {
   "cell_type": "code",
   "execution_count": 1,
   "id": "79dc403e-b876-44b6-bf11-e4a4e658659c",
   "metadata": {},
   "outputs": [],
   "source": [
    "import keyring\n",
    "\n",
    "keyring.set_password('dart_api_key', 'JuhongPark', '')"
   ]
  },
  {
   "cell_type": "code",
   "execution_count": 3,
   "id": "f3aaf952-955c-412d-86a5-61267ad4329a",
   "metadata": {},
   "outputs": [
    {
     "data": {
      "text/plain": [
       "{'Cache-Control': 'no-cache, no-store', 'Connection': 'keep-alive', 'Set-Cookie': 'WMONID=g2MjvaLPgoa; Expires=Sun, 04-May-2025 16:55:28 GMT; Path=/', 'Pragma': 'no-cache', 'Expires': '0', 'Content-Transfer-Encoding': 'binary', 'Content-Disposition': ': attachment; filename=CORPCODE.zip', 'Date': 'Sat, 04 May 2024 07:55:28 GMT', 'Content-Type': 'application/x-msdownload;charset=UTF-8', 'Content-Length': '1804788'}"
      ]
     },
     "execution_count": 3,
     "metadata": {},
     "output_type": "execute_result"
    }
   ],
   "source": [
    "import keyring\n",
    "import requests as rq\n",
    "from io import BytesIO\n",
    "import zipfile\n",
    "\n",
    "api_key = keyring.get_password('dart_api_key', 'JuhongPark')\n",
    "codezip_url = f'''https://opendart.fss.or.kr/api/corpCode.xml?crtfc_key={api_key}'''\n",
    "codezip_data = rq.get(codezip_url)\n",
    "codezip_data.headers"
   ]
  },
  {
   "cell_type": "code",
   "execution_count": 5,
   "id": "162d2ff3-1fd1-41aa-a3fd-a193f8e52a90",
   "metadata": {},
   "outputs": [
    {
     "data": {
      "text/plain": [
       "['CORPCODE.xml']"
      ]
     },
     "execution_count": 5,
     "metadata": {},
     "output_type": "execute_result"
    }
   ],
   "source": [
    "codezip_file = zipfile.ZipFile(BytesIO(codezip_data.content))\n",
    "codezip_file.namelist()"
   ]
  },
  {
   "cell_type": "code",
   "execution_count": 10,
   "id": "2910dc26-b09f-40d7-8ce8-8a263b7023ae",
   "metadata": {},
   "outputs": [],
   "source": [
    "import xmltodict\n",
    "import json\n",
    "import pandas as pd\n",
    "\n",
    "code_data = codezip_file.read('CORPCODE.xml').decode('utf-8')\n",
    "data_odict = xmltodict.parse(code_data)\n",
    "data_dict = json.loads(json.dumps(data_odict))\n",
    "data = data_dict.get('result').get('list')\n",
    "corp_list = pd.DataFrame(data)\n",
    "corp_list = corp_list[~corp_list.stock_code.isin([None])].reset_index(drop=True)"
   ]
  },
  {
   "cell_type": "raw",
   "id": "0718790c-b51d-43f8-8686-15d6b649e52b",
   "metadata": {},
   "source": [
    "CREATE TABLE `dart_code` (\n",
    "  `corp_code` varchar(8) NOT NULL,\n",
    "  `corp_name` varchar(20) NOT NULL,\n",
    "  `stock_code` varchar(6) NOT NULL,\n",
    "  `modify_date` date NOT NULL,\n",
    "  PRIMARY KEY (`corp_code`)\n",
    ");"
   ]
  },
  {
   "cell_type": "code",
   "execution_count": 15,
   "id": "3f5c32ba-41bd-4432-b124-74d2be3ca06a",
   "metadata": {},
   "outputs": [
    {
     "data": {
      "text/plain": [
       "3724"
      ]
     },
     "execution_count": 15,
     "metadata": {},
     "output_type": "execute_result"
    }
   ],
   "source": [
    "import pymysql\n",
    "from sqlalchemy import create_engine\n",
    "\n",
    "corp_list = corp_list[~corp_list.stock_code.isin(\n",
    "    [None])].reset_index(drop=True)\n",
    "\n",
    "engine = create_engine('mysql+pymysql://root:@127.0.0.1:3306/stock_db')\n",
    "corp_list.to_sql(name='dart_code', con=engine, index=True, if_exists='replace')"
   ]
  }
 ],
 "metadata": {
  "kernelspec": {
   "display_name": "Python 3 (ipykernel)",
   "language": "python",
   "name": "python3"
  },
  "language_info": {
   "codemirror_mode": {
    "name": "ipython",
    "version": 3
   },
   "file_extension": ".py",
   "mimetype": "text/x-python",
   "name": "python",
   "nbconvert_exporter": "python",
   "pygments_lexer": "ipython3",
   "version": "3.12.3"
  }
 },
 "nbformat": 4,
 "nbformat_minor": 5
}
