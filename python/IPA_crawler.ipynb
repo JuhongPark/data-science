{
 "cells": [
  {
   "cell_type": "code",
   "execution_count": null,
   "id": "7066083b-d66a-42a7-addb-b40b97e2c27d",
   "metadata": {},
   "outputs": [],
   "source": [
    "from selenium import webdriver\n",
    "from selenium.webdriver.chrome.service import Service\n",
    "from webdriver_manager.chrome import ChromeDriverManager\n",
    "from selenium.webdriver.common.by import By\n",
    "from selenium.webdriver.support import expected_conditions as EC\n",
    "from selenium.webdriver.support.ui import WebDriverWait\n",
    "import time\n",
    "import re\n",
    "import pandas as pd\n",
    "from tqdm import tqdm\n",
    "\n",
    "driver = webdriver.Chrome(service=Service(ChromeDriverManager().install()))\n",
    "base_url = 'https://dic.daum.net/search.do?q='"
   ]
  },
  {
   "cell_type": "code",
   "execution_count": null,
   "id": "a3145f0d-02ee-46e5-b8e7-1a80f5945a35",
   "metadata": {},
   "outputs": [],
   "source": [
    "word_list = ['word', 'example']"
   ]
  },
  {
   "cell_type": "code",
   "execution_count": null,
   "id": "5bc1f514-ea7b-406f-a5e9-d44119073d71",
   "metadata": {
    "scrolled": true
   },
   "outputs": [],
   "source": [
    "pron = []\n",
    "for word in tqdm(word_list):\n",
    "    try:\n",
    "        driver.get(f'{base_url}{word}')\n",
    "        html = BeautifulSoup(driver.page_source, 'lxml')\n",
    "        WebDriverWait(driver, 10).until(EC.visibility_of_element_located(\n",
    "            (By.CLASS_NAME, 'txt_pronounce')))\n",
    "        symbol = driver.find_element(By.CLASS_NAME, value='txt_pronounce').text\n",
    "        symbol = re.sub(r'[\\[\\]]', '', symbol)\n",
    "        pron.append(symbol)\n",
    "    except:\n",
    "        print(word)\n",
    "        pron.append('ERROR')\n",
    "\n",
    "    time.sleep(2)"
   ]
  }
 ],
 "metadata": {
  "kernelspec": {
   "display_name": "Python 3 (ipykernel)",
   "language": "python",
   "name": "python3"
  },
  "language_info": {
   "codemirror_mode": {
    "name": "ipython",
    "version": 3
   },
   "file_extension": ".py",
   "mimetype": "text/x-python",
   "name": "python",
   "nbconvert_exporter": "python",
   "pygments_lexer": "ipython3",
   "version": "3.12.3"
  }
 },
 "nbformat": 4,
 "nbformat_minor": 5
}
