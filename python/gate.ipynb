{
 "cells": [
  {
   "cell_type": "code",
   "execution_count": 1,
   "metadata": {},
   "outputs": [],
   "source": [
    "def truth_table(gate):\n",
    "    print(\"*{}*\".format(gate.__name__))\n",
    "    print(\"|x1|x2|y|\")\n",
    "    print(\"|0 |0 |{}|\".format(gate(0, 0)))\n",
    "    print(\"|0 |1 |{}|\".format(gate(0, 1)))\n",
    "    print(\"|1 |0 |{}|\".format(gate(1, 0)))\n",
    "    print(\"|1 |1 |{}|\".format(gate(1, 1)))"
   ]
  },
  {
   "cell_type": "code",
   "execution_count": 2,
   "metadata": {},
   "outputs": [],
   "source": [
    "def and_gate(x1, x2):\n",
    "    w1, w2, theta, = 0.5, 0.5, 0.75\n",
    "    if theta < x1 * w1 + x2 * w2:\n",
    "        y = 1\n",
    "    else:\n",
    "        y = 0\n",
    "    return y"
   ]
  },
  {
   "cell_type": "code",
   "execution_count": 3,
   "metadata": {},
   "outputs": [
    {
     "name": "stdout",
     "output_type": "stream",
     "text": [
      "*and_gate*\n",
      "|x1|x2|y|\n",
      "|0 |0 |0|\n",
      "|0 |1 |0|\n",
      "|1 |0 |0|\n",
      "|1 |1 |1|\n"
     ]
    }
   ],
   "source": [
    "truth_table(and_gate)"
   ]
  },
  {
   "cell_type": "code",
   "execution_count": 4,
   "metadata": {},
   "outputs": [],
   "source": [
    "def or_gate(x1, x2):\n",
    "    w1, w2, theta, = 0.5, 0.5, 0.25\n",
    "    if theta < x1 * w1 + x2 * w2:\n",
    "        y = 1\n",
    "    else:\n",
    "        y = 0\n",
    "    return y"
   ]
  },
  {
   "cell_type": "code",
   "execution_count": 5,
   "metadata": {},
   "outputs": [
    {
     "name": "stdout",
     "output_type": "stream",
     "text": [
      "*or_gate*\n",
      "|x1|x2|y|\n",
      "|0 |0 |0|\n",
      "|0 |1 |1|\n",
      "|1 |0 |1|\n",
      "|1 |1 |1|\n"
     ]
    }
   ],
   "source": [
    "truth_table(or_gate)"
   ]
  },
  {
   "cell_type": "code",
   "execution_count": 6,
   "metadata": {},
   "outputs": [],
   "source": [
    "def nand_gate(x1, x2):\n",
    "    w1, w2, theta, = -0.5, -0.5, -0.75\n",
    "    if theta < x1 * w1 + x2 * w2:\n",
    "        y = 1\n",
    "    else:\n",
    "        y = 0\n",
    "    return y"
   ]
  },
  {
   "cell_type": "code",
   "execution_count": 7,
   "metadata": {},
   "outputs": [
    {
     "name": "stdout",
     "output_type": "stream",
     "text": [
      "*nand_gate*\n",
      "|x1|x2|y|\n",
      "|0 |0 |1|\n",
      "|0 |1 |1|\n",
      "|1 |0 |1|\n",
      "|1 |1 |0|\n"
     ]
    }
   ],
   "source": [
    "truth_table(nand_gate)"
   ]
  },
  {
   "cell_type": "code",
   "execution_count": 8,
   "metadata": {},
   "outputs": [],
   "source": [
    "def xor_gate(x1, x2):\n",
    "    s1 = or_gate(x1, x2)\n",
    "    s2 = nand_gate(x1, x2)\n",
    "    y = and_gate(s1, s2)\n",
    "    return y"
   ]
  },
  {
   "cell_type": "code",
   "execution_count": 9,
   "metadata": {},
   "outputs": [
    {
     "name": "stdout",
     "output_type": "stream",
     "text": [
      "*xor_gate*\n",
      "|x1|x2|y|\n",
      "|0 |0 |0|\n",
      "|0 |1 |1|\n",
      "|1 |0 |1|\n",
      "|1 |1 |0|\n"
     ]
    }
   ],
   "source": [
    "truth_table(xor_gate)"
   ]
  }
 ],
 "metadata": {
  "kernelspec": {
   "display_name": "Python 3",
   "language": "python",
   "name": "python3"
  },
  "language_info": {
   "codemirror_mode": {
    "name": "ipython",
    "version": 3
   },
   "file_extension": ".py",
   "mimetype": "text/x-python",
   "name": "python",
   "nbconvert_exporter": "python",
   "pygments_lexer": "ipython3",
   "version": "3.6.3"
  }
 },
 "nbformat": 4,
 "nbformat_minor": 2
}
