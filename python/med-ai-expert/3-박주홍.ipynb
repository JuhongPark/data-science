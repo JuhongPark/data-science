{
 "cells": [
  {
   "cell_type": "markdown",
   "metadata": {},
   "source": [
    "# 3-박주홍\n",
    "## Setting"
   ]
  },
  {
   "cell_type": "markdown",
   "metadata": {},
   "source": [
    "라이브러리를 로드합니다. 주요 라이브러리로 pandas, numpy, matplotlib와 sklearn을 사용합니다."
   ]
  },
  {
   "cell_type": "code",
   "execution_count": 7,
   "metadata": {},
   "outputs": [],
   "source": [
    "# import required modules\n",
    "import numpy as np\n",
    "import pandas as pd\n",
    "import matplotlib.pyplot as plt\n",
    "from sklearn.svm import SVC\n",
    "from sklearn import datasets\n",
    "from sklearn.model_selection import train_test_split\n",
    "from sklearn.preprocessing import StandardScaler\n",
    "\n",
    "# Jupyter Notebook 상에서 출력하기 위해 아래 코드를 추가\n",
    "plt.style.use('ggplot')\n",
    "%matplotlib inline"
   ]
  },
  {
   "cell_type": "markdown",
   "metadata": {},
   "source": [
    "## Function\n",
    "분석에 사용할 함수를 정의합니다. 함수의 역할에 대해서는 아래 한글 주석으로 추가하였습니다."
   ]
  },
  {
   "cell_type": "code",
   "execution_count": 8,
   "metadata": {},
   "outputs": [],
   "source": [
    "# 모델의 결과를 평가하는 함수\n",
    "def calculate_diagnostic_performance (actual_predicted):\n",
    "    \"\"\" We will calculated only accuracy in this model \"\"\"\n",
    "    \n",
    "    performance ={}\n",
    "    test_correct = actual_predicted[:, 0] == actual_predicted[:, 1]\n",
    "    performance['accuracy'] = np.average(test_correct)\n",
    "\n",
    "    return performance\n",
    "\n",
    "# 모델 결과를 차트로 출력하는 함수\n",
    "def chart_results(results):\n",
    "    x = results['c']\n",
    "    y1 = results['training_accuracy']\n",
    "    y2 = results['test_accuracy']\n",
    "    \n",
    "    # Create figure\n",
    "    fig = plt.figure(figsize=(5,5))\n",
    "    ax = fig.add_subplot(111)\n",
    "    ax.plot(x,y1, color='k',linestyle='solid', label = 'Training set')\n",
    "    ax.plot(x,y2, color='b',linestyle='dashed', label = 'Test set')    \n",
    "    ax.set_xscale('log')\n",
    "    ax.set_xlabel('Regularisation (c)')\n",
    "    ax.set_ylabel('Accuracy')\n",
    "    plt.title('Effect of regularisation on model accuracy')\n",
    "    plt.legend()\n",
    "    plt.show()\n",
    "\n",
    "# 데이터를 로드하는 함수, 주석으로 데이터에 대한 설명이 추가됨\n",
    "def load_data ():\n",
    "    \"\"\"Load the data set. Here we load the Breast Cancer Wisconsin (Diagnostic)\n",
    "    Data Set. Data could be loaded from other sources though the structure\n",
    "    should be compatible with thi sdata set, that is an object with the \n",
    "    following attribtes:\n",
    "        .data (holds feature data)\n",
    "        .feature_names (holds feature titles)\n",
    "        .target_names (holds outcome classification names)\n",
    "        .target (holds classification as zero-based number)\n",
    "        .DESCR (holds text-based description of data set)\"\"\"\n",
    "    \n",
    "    data_set = datasets.load_breast_cancer()\n",
    "    return data_set\n",
    "\n",
    "# 학습을 안정적으로 하기 위해 feature의 scale을 보정하여 normalise하는 코드\n",
    "# feature들 간의 scale이 다르면 학습이 안정적으로 되지 않으므로 필요\n",
    "def normalise (X_train,X_test):\n",
    "    \"\"\"Normalise X data, so that training set has mean of zero and standard\n",
    "    deviation of one\"\"\"\n",
    "    \n",
    "    # Initialise a new scaling object for normalising input data\n",
    "    sc=StandardScaler() \n",
    "    \n",
    "    # Set up the scaler just on the training set\n",
    "    sc.fit(X_train)\n",
    "    \n",
    "    # Apply the scaler to the training and test sets\n",
    "    X_train_std=sc.transform(X_train)\n",
    "    X_test_std=sc.transform(X_test)\n",
    "    \n",
    "    return X_train_std, X_test_std\n",
    "\n",
    "# 학습 결과를 보기 편하게 출력하는 함수\n",
    "def print_diagnostic_results (performance):\n",
    "    \"\"\"Iterate through, and print, the performance metrics dictionary\"\"\"\n",
    "    \n",
    "    print('\\nMachine learning diagnostic performance measures:')\n",
    "    print('-------------------------------------------------')\n",
    "    for key, value in performance.items():\n",
    "        print (key,'= %0.3f' %value) # print 3 decimal places\n",
    "    return\n",
    "\n",
    "# 학습과 평가에 사용하기 위해 데이터를 X, y 로 나누고 이를 Train 및 Test로 나누는 함수\n",
    "def split_data (data_set, split=0.25):\n",
    "    \"\"\"Extract X and y data from data_set object, and split into tarining and\n",
    "    test data. Split defaults to 75% training, 25% test if not other value \n",
    "    passed to function\"\"\"\n",
    "    \n",
    "    X = data_set.data\n",
    "    y = data_set.target\n",
    "    X_train,X_test,y_train,y_test=train_test_split(X,y,test_size=split)\n",
    "    \n",
    "    return X_train,X_test,y_train,y_test\n",
    "\n",
    "# 모델로 Test를 하는 함수, 입력값에 대한 예측값을 출력함\n",
    "def test_model(model, X, y):\n",
    "    \"\"\"Return predicted y given X (attributes)\"\"\"\n",
    "    \n",
    "    y_pred = model.predict(X)\n",
    "    test_results = np.vstack((y, y_pred)).T\n",
    "    return test_results\n",
    "\n",
    "# 모델을 Train 하는 함수, 학습된 모델을 출력함\n",
    "def train_model (X, y, c):\n",
    "    \"\"\"Train the model \"\"\"\n",
    "    \n",
    "    from sklearn.svm import SVC\n",
    "    model=SVC(kernel='rbf',C=c)\n",
    "    model.fit(X_train_std,y_train)\n",
    "    return model"
   ]
  },
  {
   "cell_type": "markdown",
   "metadata": {},
   "source": [
    "## Analysis\n",
    "실제 분석을 하는 항목입니다. 개별 항목에 대한 한글 주석을 추가하였습니다."
   ]
  },
  {
   "cell_type": "code",
   "execution_count": 9,
   "metadata": {},
   "outputs": [
    {
     "name": "stdout",
     "output_type": "stream",
     "text": [
      "            training_accuracy  test_accuracy           c\n",
      "c                                                       \n",
      "0.0001               0.626761       0.629371      0.0001\n",
      "0.0010               0.629108       0.622378      0.0010\n",
      "0.0100               0.626761       0.629371      0.0100\n",
      "0.1000               0.953052       0.944056      0.1000\n",
      "1.0000               0.985915       0.972028      1.0000\n",
      "10.0000              0.992958       0.972028     10.0000\n",
      "100.0000             1.000000       0.965035    100.0000\n",
      "1000.0000            1.000000       0.965035   1000.0000\n",
      "10000.0000           1.000000       0.965035  10000.0000\n"
     ]
    },
    {
     "data": {
      "image/png": "[encoded data removed]",
      "text/plain": [
       "<Figure size 360x360 with 1 Axes>"
      ]
     },
     "metadata": {
      "needs_background": "light"
     },
     "output_type": "display_data"
    }
   ],
   "source": [
    "###### Main code #######\n",
    "\n",
    "# Load data\n",
    "data_set = load_data()\n",
    "\n",
    "# Regularisation을 하기 위한 C 값의 후보를 정의함\n",
    "# List of regularisation values\n",
    "c_list = [0.0001, 0.001, 0.01, 0.1, 1, 10, 100, 1000, 10000]\n",
    "training_accuracy = []\n",
    "test_accuracy = []\n",
    "c_results = [] # record c\n",
    "\n",
    "# 각 Regularisation 중에서 가장 성능이 좋은 C 값을 선택하기 위해 여러번 반복함\n",
    "for c in c_list:\n",
    "    for i in range(1000): # repeat model for better estimation of optimal C\n",
    "        \n",
    "        # 데이터를 X, y 및 train, test로 나눔\n",
    "        # Split data into trainign and test sets\n",
    "        X_train, X_test, y_train, y_test = split_data(data_set, 0.25)\n",
    "\n",
    "        # 안정적인 학습을 위해 Feature들의 sclae 차이를 보정하는 Normalize 수행\n",
    "        # Normalise data\n",
    "        X_train_std, X_test_std = normalise(X_train,X_test)\n",
    "        \n",
    "        # 학습에 사용한 c 기록\n",
    "        # Repeat test 1000x per level of c\n",
    "        c_results.append(c)\n",
    "        \n",
    "        # 모델 학습\n",
    "        # Train model\n",
    "        model = train_model(X_train_std,y_train, c)\n",
    "\n",
    "        # 학습된 결과로 Train 데이터에 대한 평가 진행\n",
    "        # Produce results for training set\n",
    "        test_results = test_model(model, X_train_std, y_train)\n",
    "        performance = calculate_diagnostic_performance(test_results)\n",
    "        training_accuracy.append(performance['accuracy'])\n",
    "\n",
    "        # 학습된 결과로 Test 데이터에 대한 평가 진행\n",
    "        # Produce results for test set\n",
    "        test_results = test_model(model, X_test_std, y_test)\n",
    "        performance = calculate_diagnostic_performance(test_results)\n",
    "        test_accuracy.append(performance['accuracy'])\n",
    "\n",
    "# 학습 결과를 계산하기 위해 DataFrame을 생성하여 데이터를 가공하고 이를 출력함\n",
    "results = pd.DataFrame()\n",
    "results['c'] = c_results\n",
    "results['training_accuracy'] = training_accuracy\n",
    "results['test_accuracy'] = test_accuracy\n",
    "summary = results.groupby('c').median()\n",
    "summary['c'] = list(summary.index)\n",
    "print (summary)\n",
    "\n",
    "# 최종 결과 차트를 출력함\n",
    "chart_results (summary)"
   ]
  }
 ],
 "metadata": {
  "kernelspec": {
   "display_name": "Python 3",
   "language": "python",
   "name": "python3"
  },
  "language_info": {
   "codemirror_mode": {
    "name": "ipython",
    "version": 3
   },
   "file_extension": ".py",
   "mimetype": "text/x-python",
   "name": "python",
   "nbconvert_exporter": "python",
   "pygments_lexer": "ipython3",
   "version": "3.7.3"
  }
 },
 "nbformat": 4,
 "nbformat_minor": 2
}
